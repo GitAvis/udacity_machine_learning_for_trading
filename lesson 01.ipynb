{
 "cells": [
  {
   "cell_type": "code",
   "execution_count": 6,
   "metadata": {
    "collapsed": false
   },
   "outputs": [],
   "source": [
    "import pandas as pd\n",
    "import numpy as np\n",
    "import matplotlib.pyplot as plt\n",
    "%matplotlib inline"
   ]
  },
  {
   "cell_type": "code",
   "execution_count": 19,
   "metadata": {
    "collapsed": true
   },
   "outputs": [],
   "source": [
    "data = pd.read_csv('data/SPY.csv')\n"
   ]
  },
  {
   "cell_type": "code",
   "execution_count": 20,
   "metadata": {
    "collapsed": false
   },
   "outputs": [
    {
     "data": {
      "text/html": [
       "<div>\n",
       "<table border=\"1\" class=\"dataframe\">\n",
       "  <thead>\n",
       "    <tr style=\"text-align: right;\">\n",
       "      <th></th>\n",
       "      <th>Date</th>\n",
       "      <th>Open</th>\n",
       "      <th>High</th>\n",
       "      <th>Low</th>\n",
       "      <th>Close</th>\n",
       "      <th>Volume</th>\n",
       "      <th>Adj Close</th>\n",
       "    </tr>\n",
       "  </thead>\n",
       "  <tbody>\n",
       "    <tr>\n",
       "      <th>0</th>\n",
       "      <td>2017-03-29</td>\n",
       "      <td>234.990005</td>\n",
       "      <td>235.809998</td>\n",
       "      <td>234.729996</td>\n",
       "      <td>235.539993</td>\n",
       "      <td>53156500</td>\n",
       "      <td>235.539993</td>\n",
       "    </tr>\n",
       "    <tr>\n",
       "      <th>1</th>\n",
       "      <td>2017-03-28</td>\n",
       "      <td>233.270004</td>\n",
       "      <td>235.809998</td>\n",
       "      <td>233.139999</td>\n",
       "      <td>235.320007</td>\n",
       "      <td>86120900</td>\n",
       "      <td>235.320007</td>\n",
       "    </tr>\n",
       "    <tr>\n",
       "      <th>2</th>\n",
       "      <td>2017-03-27</td>\n",
       "      <td>231.929993</td>\n",
       "      <td>233.919998</td>\n",
       "      <td>231.610001</td>\n",
       "      <td>233.619995</td>\n",
       "      <td>87454500</td>\n",
       "      <td>233.619995</td>\n",
       "    </tr>\n",
       "    <tr>\n",
       "      <th>3</th>\n",
       "      <td>2017-03-24</td>\n",
       "      <td>234.380005</td>\n",
       "      <td>235.039993</td>\n",
       "      <td>232.960007</td>\n",
       "      <td>233.860001</td>\n",
       "      <td>112504900</td>\n",
       "      <td>233.860001</td>\n",
       "    </tr>\n",
       "    <tr>\n",
       "      <th>4</th>\n",
       "      <td>2017-03-23</td>\n",
       "      <td>234.279999</td>\n",
       "      <td>235.339996</td>\n",
       "      <td>233.600006</td>\n",
       "      <td>234.029999</td>\n",
       "      <td>100410300</td>\n",
       "      <td>234.029999</td>\n",
       "    </tr>\n",
       "  </tbody>\n",
       "</table>\n",
       "</div>"
      ],
      "text/plain": [
       "         Date        Open        High         Low       Close     Volume  \\\n",
       "0  2017-03-29  234.990005  235.809998  234.729996  235.539993   53156500   \n",
       "1  2017-03-28  233.270004  235.809998  233.139999  235.320007   86120900   \n",
       "2  2017-03-27  231.929993  233.919998  231.610001  233.619995   87454500   \n",
       "3  2017-03-24  234.380005  235.039993  232.960007  233.860001  112504900   \n",
       "4  2017-03-23  234.279999  235.339996  233.600006  234.029999  100410300   \n",
       "\n",
       "    Adj Close  \n",
       "0  235.539993  \n",
       "1  235.320007  \n",
       "2  233.619995  \n",
       "3  233.860001  \n",
       "4  234.029999  "
      ]
     },
     "execution_count": 20,
     "metadata": {},
     "output_type": "execute_result"
    }
   ],
   "source": [
    "data.head()"
   ]
  },
  {
   "cell_type": "code",
   "execution_count": 21,
   "metadata": {
    "collapsed": false,
    "scrolled": true
   },
   "outputs": [
    {
     "data": {
      "text/plain": [
       "[]"
      ]
     },
     "execution_count": 21,
     "metadata": {},
     "output_type": "execute_result"
    },
    {
     "data": {
      "image/png": "[encoded data removed]",
      "text/plain": [
       "<matplotlib.figure.Figure at 0x1122663c8>"
      ]
     },
     "metadata": {},
     "output_type": "display_data"
    }
   ],
   "source": [
    "data[['High','Low','Adj Close']].plot()\n",
    "plt.plot()"
   ]
  },
  {
   "cell_type": "code",
   "execution_count": 22,
   "metadata": {
    "collapsed": false
   },
   "outputs": [
    {
     "data": {
      "text/plain": [
       "price    0.461036\n",
       "Name: 2017-01-02 00:00:00, dtype: float64"
      ]
     },
     "execution_count": 22,
     "metadata": {},
     "output_type": "execute_result"
    }
   ],
   "source": [
    "start = '2017-01-01'\n",
    "end = '2017-01-10'\n",
    "idx = pd.date_range(start,end)\n",
    "data = np.random.rand(10)\n",
    "df = pd.DataFrame(data,columns=['price'],index=idx)\n",
    "df.iloc[1]"
   ]
  }
 ],
 "metadata": {
  "anaconda-cloud": {},
  "kernelspec": {
   "display_name": "Python [conda env:tensorflow]",
   "language": "python",
   "name": "conda-env-tensorflow-py"
  },
  "language_info": {
   "codemirror_mode": {
    "name": "ipython",
    "version": 3
   },
   "file_extension": ".py",
   "mimetype": "text/x-python",
   "name": "python",
   "nbconvert_exporter": "python",
   "pygments_lexer": "ipython3",
   "version": "3.5.3"
  }
 },
 "nbformat": 4,
 "nbformat_minor": 2
}
